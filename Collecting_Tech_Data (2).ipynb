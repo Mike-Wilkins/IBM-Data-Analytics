{
 "cells": [
  {
   "cell_type": "code",
   "execution_count": 21,
   "id": "6bdba820-f779-4d3d-8cdb-b479453bd7e3",
   "metadata": {
    "tags": []
   },
   "outputs": [],
   "source": [
    "import requests # you need this module to make an API call\n",
    "import pandas as pd\n",
    "import json"
   ]
  },
  {
   "cell_type": "code",
   "execution_count": 22,
   "id": "25460395-e69e-4306-8285-02548be4a88f",
   "metadata": {
    "tags": []
   },
   "outputs": [
    {
     "name": "stdout",
     "output_type": "stream",
     "text": [
      "Requirement already satisfied: openpyxl in /home/jupyterlab/conda/envs/python/lib/python3.7/site-packages (3.1.3)\n",
      "Requirement already satisfied: et-xmlfile in /home/jupyterlab/conda/envs/python/lib/python3.7/site-packages (from openpyxl) (1.1.0)\n",
      "Note: you may need to restart the kernel to use updated packages.\n"
     ]
    }
   ],
   "source": [
    "pip install openpyxl"
   ]
  },
  {
   "cell_type": "code",
   "execution_count": 23,
   "id": "ff0530df-f5b1-49b3-80dc-a8ccec28cfa5",
   "metadata": {
    "tags": []
   },
   "outputs": [],
   "source": [
    "from openpyxl import Workbook"
   ]
  },
  {
   "cell_type": "code",
   "execution_count": 39,
   "id": "0d9acf28-a4e2-427a-9b13-727968991bd0",
   "metadata": {
    "tags": []
   },
   "outputs": [],
   "source": [
    "api_url=\"http://127.0.0.1:5000/data\"\n",
    "\n",
    "def get_number_of_jobs_Tech(technology):\n",
    "    number_of_jobs = 0\n",
    "    payload = {\"Key Skills\": technology}\n",
    "    r = requests.get(api_url, params=payload)\n",
    "    if r.ok:\n",
    "        data = r.json()\n",
    "        number_of_jobs += len(data)\n",
    "    return technology, number_of_jobs"
   ]
  },
  {
   "cell_type": "code",
   "execution_count": 40,
   "id": "bd6e0bcc-2758-49d1-97ea-a2beef66d25b",
   "metadata": {
    "tags": []
   },
   "outputs": [
    {
     "data": {
      "text/plain": [
       "('Python', 1173)"
      ]
     },
     "execution_count": 40,
     "metadata": {},
     "output_type": "execute_result"
    }
   ],
   "source": [
    "get_number_of_jobs_Tech(\"Python\")"
   ]
  },
  {
   "cell_type": "code",
   "execution_count": 46,
   "id": "1072d7b5-f0d2-4cfd-8c29-d5d088eb575d",
   "metadata": {
    "tags": []
   },
   "outputs": [],
   "source": [
    "technology_list = [\"C\", \"C#\", \"C++\", \"Java\", \"JavaScript\", \"Python\", \"Scala\", \"Oracle\", \"SQL Server\", \"MySQL Server\", \"PostgreSQL\", \"MongoDB\"]"
   ]
  },
  {
   "cell_type": "code",
   "execution_count": 47,
   "id": "8298398d-3fb9-4680-9774-330795e4da70",
   "metadata": {
    "tags": []
   },
   "outputs": [],
   "source": [
    "wb=Workbook()                        \n",
    "ws=wb.active"
   ]
  },
  {
   "cell_type": "code",
   "execution_count": 48,
   "id": "7267b844-8236-467d-ba21-aef88b97cece",
   "metadata": {
    "tags": []
   },
   "outputs": [],
   "source": [
    "ws.append([\"Technology\", \"Number of Jobs Postings\"])"
   ]
  },
  {
   "cell_type": "code",
   "execution_count": 49,
   "id": "3c3b1158-3e76-45e8-8d5b-a88180073da6",
   "metadata": {
    "tags": []
   },
   "outputs": [],
   "source": [
    "for technology in technology_list:\n",
    "    ws.append(get_number_of_jobs_Tech(technology))\n",
    "\n",
    "wb.save(\"job-postings.xlsx\")"
   ]
  },
  {
   "cell_type": "code",
   "execution_count": 50,
   "id": "4a96ec81-f9eb-42ef-bdb8-10b3bcd6c927",
   "metadata": {
    "tags": []
   },
   "outputs": [
    {
     "data": {
      "text/html": [
       "<div>\n",
       "<style scoped>\n",
       "    .dataframe tbody tr th:only-of-type {\n",
       "        vertical-align: middle;\n",
       "    }\n",
       "\n",
       "    .dataframe tbody tr th {\n",
       "        vertical-align: top;\n",
       "    }\n",
       "\n",
       "    .dataframe thead th {\n",
       "        text-align: right;\n",
       "    }\n",
       "</style>\n",
       "<table border=\"1\" class=\"dataframe\">\n",
       "  <thead>\n",
       "    <tr style=\"text-align: right;\">\n",
       "      <th></th>\n",
       "      <th>Technology</th>\n",
       "      <th>Number of Jobs Postings</th>\n",
       "    </tr>\n",
       "  </thead>\n",
       "  <tbody>\n",
       "    <tr>\n",
       "      <th>0</th>\n",
       "      <td>C</td>\n",
       "      <td>13498</td>\n",
       "    </tr>\n",
       "    <tr>\n",
       "      <th>3</th>\n",
       "      <td>Java</td>\n",
       "      <td>2609</td>\n",
       "    </tr>\n",
       "    <tr>\n",
       "      <th>5</th>\n",
       "      <td>Python</td>\n",
       "      <td>1173</td>\n",
       "    </tr>\n",
       "    <tr>\n",
       "      <th>7</th>\n",
       "      <td>Oracle</td>\n",
       "      <td>784</td>\n",
       "    </tr>\n",
       "    <tr>\n",
       "      <th>4</th>\n",
       "      <td>JavaScript</td>\n",
       "      <td>355</td>\n",
       "    </tr>\n",
       "    <tr>\n",
       "      <th>1</th>\n",
       "      <td>C#</td>\n",
       "      <td>333</td>\n",
       "    </tr>\n",
       "    <tr>\n",
       "      <th>2</th>\n",
       "      <td>C++</td>\n",
       "      <td>305</td>\n",
       "    </tr>\n",
       "    <tr>\n",
       "      <th>8</th>\n",
       "      <td>SQL Server</td>\n",
       "      <td>250</td>\n",
       "    </tr>\n",
       "    <tr>\n",
       "      <th>11</th>\n",
       "      <td>MongoDB</td>\n",
       "      <td>174</td>\n",
       "    </tr>\n",
       "    <tr>\n",
       "      <th>6</th>\n",
       "      <td>Scala</td>\n",
       "      <td>33</td>\n",
       "    </tr>\n",
       "    <tr>\n",
       "      <th>10</th>\n",
       "      <td>PostgreSQL</td>\n",
       "      <td>10</td>\n",
       "    </tr>\n",
       "    <tr>\n",
       "      <th>9</th>\n",
       "      <td>MySQL Server</td>\n",
       "      <td>0</td>\n",
       "    </tr>\n",
       "  </tbody>\n",
       "</table>\n",
       "</div>"
      ],
      "text/plain": [
       "      Technology  Number of Jobs Postings\n",
       "0              C                    13498\n",
       "3           Java                     2609\n",
       "5         Python                     1173\n",
       "7         Oracle                      784\n",
       "4     JavaScript                      355\n",
       "1             C#                      333\n",
       "2            C++                      305\n",
       "8     SQL Server                      250\n",
       "11       MongoDB                      174\n",
       "6          Scala                       33\n",
       "10    PostgreSQL                       10\n",
       "9   MySQL Server                        0"
      ]
     },
     "execution_count": 50,
     "metadata": {},
     "output_type": "execute_result"
    }
   ],
   "source": [
    "df2 = pd.read_excel('job-postings.xlsx')\n",
    "df2.sort_values(by='Number of Jobs Postings', ascending=False, inplace=True)\n",
    "df2"
   ]
  },
  {
   "cell_type": "code",
   "execution_count": null,
   "id": "ec0709ac-f816-4cb4-9d27-8f63200edba6",
   "metadata": {},
   "outputs": [],
   "source": []
  }
 ],
 "metadata": {
  "kernelspec": {
   "display_name": "Python",
   "language": "python",
   "name": "conda-env-python-py"
  },
  "language_info": {
   "codemirror_mode": {
    "name": "ipython",
    "version": 3
   },
   "file_extension": ".py",
   "mimetype": "text/x-python",
   "name": "python",
   "nbconvert_exporter": "python",
   "pygments_lexer": "ipython3",
   "version": "3.7.12"
  }
 },
 "nbformat": 4,
 "nbformat_minor": 5
}
