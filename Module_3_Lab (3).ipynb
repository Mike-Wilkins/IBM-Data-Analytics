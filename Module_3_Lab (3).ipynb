{
 "cells": [
  {
   "cell_type": "code",
   "execution_count": 2,
   "id": "8c14971e-0279-47eb-a7b6-c7fc2e56ed80",
   "metadata": {},
   "outputs": [],
   "source": [
    "import pandas as pd\n",
    "import seaborn as sns\n",
    "import matplotlib.pyplot as plt\n",
    "import numpy as np"
   ]
  },
  {
   "cell_type": "markdown",
   "id": "e1d7d945-5c72-4656-83f6-9239f85f6b4b",
   "metadata": {},
   "source": [
    "#### Read Data"
   ]
  },
  {
   "cell_type": "code",
   "execution_count": 3,
   "id": "5e0e45ad-ddf2-4fa2-96ca-f1b40cbcb50d",
   "metadata": {},
   "outputs": [],
   "source": [
    "df = pd.read_csv(\"https://cf-courses-data.s3.us.cloud-object-storage.appdomain.cloud/IBM-DA0321EN-SkillsNetwork/LargeData/m2_survey_data.csv\")"
   ]
  },
  {
   "cell_type": "markdown",
   "id": "9954df42-c7c6-468b-907c-c257eb3faf96",
   "metadata": {},
   "source": [
    "#### Count the number of rows in the dataset"
   ]
  },
  {
   "cell_type": "code",
   "execution_count": 4,
   "id": "cf24e0bf-3206-44ac-9ecc-740cbd2fcc77",
   "metadata": {},
   "outputs": [
    {
     "name": "stdout",
     "output_type": "stream",
     "text": [
      "Number of rows:  11398\n"
     ]
    }
   ],
   "source": [
    "num_rows = len(df)\n",
    "print('Number of rows: ',num_rows) "
   ]
  },
  {
   "cell_type": "markdown",
   "id": "e6c528af-efe6-4996-9fc9-79c87148dd42",
   "metadata": {},
   "source": [
    "#### Check if any rows contain null values"
   ]
  },
  {
   "cell_type": "code",
   "execution_count": 5,
   "id": "1573f4bd-3fee-44c5-96f1-4b063afca2de",
   "metadata": {},
   "outputs": [
    {
     "name": "stdout",
     "output_type": "stream",
     "text": [
      "Null values in ConvertedComp:  816\n"
     ]
    }
   ],
   "source": [
    "null_vals = df['ConvertedComp'].isnull().sum()\n",
    "print('Null values in ConvertedComp: ',null_vals)"
   ]
  },
  {
   "cell_type": "markdown",
   "id": "9e5a3cec-5a8f-4406-a1c8-285a9f1d7803",
   "metadata": {},
   "source": [
    "#### Remove any null values"
   ]
  },
  {
   "cell_type": "code",
   "execution_count": 6,
   "id": "7fdb7189-9c03-4491-9ae0-b12f2ad21f74",
   "metadata": {},
   "outputs": [],
   "source": [
    "df.dropna(inplace=True)"
   ]
  },
  {
   "cell_type": "code",
   "execution_count": 7,
   "id": "a5e6bf81-2261-4081-adc6-4fe253772e7b",
   "metadata": {},
   "outputs": [
    {
     "name": "stdout",
     "output_type": "stream",
     "text": [
      "Null values in ConvertedComp:  0\n"
     ]
    }
   ],
   "source": [
    "drop_null_vals = df['ConvertedComp'].isnull().sum()\n",
    "print('Null values in ConvertedComp: ',drop_null_vals)"
   ]
  },
  {
   "cell_type": "markdown",
   "id": "7bd1c01e-9ef8-46f6-b3db-36b4e8859e37",
   "metadata": {},
   "source": [
    "#### Create Histogram for ConvertComp column"
   ]
  },
  {
   "cell_type": "code",
   "execution_count": 10,
   "id": "689cc07d-7602-453d-9134-f167f117d3c3",
   "metadata": {},
   "outputs": [
    {
     "data": {
      "text/plain": [
       "Text(0.5, 0, 'ConvertedComp')"
      ]
     },
     "execution_count": 10,
     "metadata": {},
     "output_type": "execute_result"
    },
    {
     "data": {
      "image/png": "[encoded data removed]",
      "text/plain": [
       "<Figure size 640x480 with 1 Axes>"
      ]
     },
     "metadata": {},
     "output_type": "display_data"
    }
   ],
   "source": [
    "count, bin_edges = np.histogram(df['ConvertedComp'])\n",
    "df['ConvertedComp'].plot(kind='hist', xticks = bin_edges)\n",
    "plt.title('Distribution of Salaries')\n",
    "plt.ylabel('Job Count')\n",
    "plt.xlabel('ConvertedComp')"
   ]
  },
  {
   "cell_type": "code",
   "execution_count": 16,
   "id": "b087ba39-e214-4b70-815b-03fbe4ea154e",
   "metadata": {},
   "outputs": [
    {
     "name": "stdout",
     "output_type": "stream",
     "text": [
      "Median:  65537.5\n"
     ]
    }
   ],
   "source": [
    "median = df['ConvertedComp'].median()\n",
    "print('Median: ', median)"
   ]
  },
  {
   "cell_type": "code",
   "execution_count": 18,
   "id": "c22f9724-d3bc-44f2-a4da-0d9603d1a9f9",
   "metadata": {},
   "outputs": [
    {
     "name": "stdout",
     "output_type": "stream",
     "text": [
      "Median Age:  29.0\n"
     ]
    }
   ],
   "source": [
    "median_age = df['Age'].median()\n",
    "print('Median Age: ', median_age)"
   ]
  },
  {
   "cell_type": "code",
   "execution_count": 14,
   "id": "fe90680c-6ff5-495c-84a9-edde3d0c9833",
   "metadata": {},
   "outputs": [
    {
     "data": {
      "text/plain": [
       "Gender\n",
       "Man                                                      962\n",
       "Woman                                                     37\n",
       "Non-binary, genderqueer, or gender non-conforming          6\n",
       "Man;Non-binary, genderqueer, or gender non-conforming      2\n",
       "Woman;Man                                                  1\n",
       "Name: count, dtype: int64"
      ]
     },
     "execution_count": 14,
     "metadata": {},
     "output_type": "execute_result"
    }
   ],
   "source": [
    "df['Gender'].value_counts()"
   ]
  },
  {
   "cell_type": "code",
   "execution_count": null,
   "id": "baaed7fe-ece8-4e48-bb95-45cedcdc98ca",
   "metadata": {},
   "outputs": [],
   "source": []
  }
 ],
 "metadata": {
  "kernelspec": {
   "display_name": "Python 3 (ipykernel)",
   "language": "python",
   "name": "python3"
  },
  "language_info": {
   "codemirror_mode": {
    "name": "ipython",
    "version": 3
   },
   "file_extension": ".py",
   "mimetype": "text/x-python",
   "name": "python",
   "nbconvert_exporter": "python",
   "pygments_lexer": "ipython3",
   "version": "3.12.7"
  }
 },
 "nbformat": 4,
 "nbformat_minor": 5
}
